{
 "cells": [
  {
   "cell_type": "code",
   "execution_count": 1,
   "id": "6f261180-6878-423d-bd7d-810de9c95788",
   "metadata": {},
   "outputs": [
    {
     "name": "stderr",
     "output_type": "stream",
     "text": [
      "[nltk_data] Downloading package punkt to /home/annie/nltk_data...\n",
      "[nltk_data]   Package punkt is already up-to-date!\n",
      "[nltk_data] Downloading package wordnet to /home/annie/nltk_data...\n",
      "[nltk_data]   Package wordnet is already up-to-date!\n"
     ]
    },
    {
     "data": {
      "text/plain": [
       "True"
      ]
     },
     "execution_count": 1,
     "metadata": {},
     "output_type": "execute_result"
    }
   ],
   "source": [
    "import urllib.request\n",
    "import bs4 as bs\n",
    "import re\n",
    "import nltk\n",
    "import string\n",
    "import random\n",
    "from sklearn.feature_extraction.text import TfidfVectorizer\n",
    "from sklearn.metrics.pairwise import cosine_similarity\n",
    "\n",
    "nltk.download('punkt')\n",
    "nltk.download('wordnet')"
   ]
  },
  {
   "cell_type": "code",
   "execution_count": 2,
   "id": "0f97a607-0e64-4493-989b-5168a0388de7",
   "metadata": {},
   "outputs": [],
   "source": [
    "# Function to perform lemmatization\n",
    "def perform_lemmatization(tokens):\n",
    "    wnlemmatizer = nltk.stem.WordNetLemmatizer()\n",
    "    return [wnlemmatizer.lemmatize(token) for token in tokens]\n"
   ]
  },
  {
   "cell_type": "code",
   "execution_count": 3,
   "id": "0ccadb89-10a9-4ed5-9e68-2f8f962ed4ca",
   "metadata": {},
   "outputs": [],
   "source": [
    "# Function to process text by removing punctuation and lemmatizing\n",
    "def get_processed_text(document):\n",
    "    punctuation_removal = dict((ord(punctuation), None) for punctuation in string.punctuation)\n",
    "    return perform_lemmatization(nltk.word_tokenize(document.lower().translate(punctuation_removal)))\n",
    "\n"
   ]
  },
  {
   "cell_type": "code",
   "execution_count": 4,
   "id": "345df8c8-1760-40c8-824d-9e55ac156ed1",
   "metadata": {},
   "outputs": [],
   "source": [
    "# Greeting responses\n",
    "greeting_inputs = (\"hey\", \"good morning\", \"good evening\", \"morning\", \"evening\", \"hi\", \"whatsup\",\"hello\")\n",
    "greeting_responses = [\"hey\", \"hey hows you?\", \"*nods*\", \"hello, how you doing\", \"hello\", \"Welcome, I am good and you\"]\n"
   ]
  },
  {
   "cell_type": "code",
   "execution_count": 5,
   "id": "5282b51a-383b-474c-b9d4-a639136e7d99",
   "metadata": {},
   "outputs": [],
   "source": [
    "\n",
    "# Function to generate greeting response\n",
    "def generate_greeting_response(greeting):\n",
    "    for token in greeting.split():\n",
    "        if token.lower() in greeting_inputs:\n",
    "            return random.choice(greeting_responses)"
   ]
  },
  {
   "cell_type": "code",
   "execution_count": 6,
   "id": "d3885265-7192-4879-a47d-c98bb82b8b82",
   "metadata": {},
   "outputs": [],
   "source": [
    "# Function to generate response based on user input\n",
    "def generate_response(user_input):\n",
    "    bot_response = ''\n",
    "    data_sentences.append(user_input)\n",
    "\n",
    "    word_vectorizer = TfidfVectorizer(tokenizer=get_processed_text, stop_words='english')\n",
    "    all_word_vectors = word_vectorizer.fit_transform(data_sentences)\n",
    "    similar_vector_values = cosine_similarity(all_word_vectors[-1], all_word_vectors)\n",
    "    similar_sentence_number = similar_vector_values.argsort()[0][-2]\n",
    "\n",
    "    matched_vector = similar_vector_values.flatten()\n",
    "    matched_vector.sort()\n",
    "    vector_matched = matched_vector[-2]\n",
    "\n",
    "    if vector_matched == 0:\n",
    "        bot_response = bot_response + \"I am sorry, I could not understand you\"\n",
    "        return bot_response\n",
    "    else:\n",
    "        bot_response = bot_response + data_sentences[similar_sentence_number]\n",
    "        return bot_response\n"
   ]
  },
  {
   "cell_type": "code",
   "execution_count": null,
   "id": "f13c8466-cd3d-4bb8-ab67-987e63e0ff9c",
   "metadata": {},
   "outputs": [
    {
     "name": "stdout",
     "output_type": "stream",
     "text": [
      "Hello, I am a WiKi Bot. You can ask me any question regarding a specific Wikipedia link, drop a link and we can get started right away!!\n"
     ]
    },
    {
     "name": "stdin",
     "output_type": "stream",
     "text": [
      "Please enter a Wikipedia URL:  https://en.wikipedia.org/wiki/Mars\n"
     ]
    }
   ],
   "source": [
    "# Initial message to the user\n",
    "beginning_message = \"Hello, I am a WiKi Bot. You can ask me any question regarding a specific Wikipedia link, drop a link and we can get started right away!!\"\n",
    "print(beginning_message)\n",
    "\n",
    "# Prompt user for a Wikipedia URL\n",
    "wiki_url = input(\"Please enter a Wikipedia URL: \")\n",
    "\n",
    "# Fetch and process data from the URL\n",
    "get_link = urllib.request.urlopen(wiki_url)\n",
    "get_link = get_link.read()\n",
    "data = bs.BeautifulSoup(get_link, 'lxml')\n",
    "data_paragraphs = data.find_all('p')\n",
    "data_text = ''\n",
    "\n",
    "for para in data_paragraphs:\n",
    "    data_text += para.text\n",
    "\n",
    "data_text = data_text.lower()\n",
    "data_text = re.sub(r'\\[[0-9]*\\]', ' ', data_text)\n",
    "data_text = re.sub(r'\\s+', ' ', data_text)\n",
    "data_sentences = nltk.sent_tokenize(data_text)\n",
    "data_words = nltk.word_tokenize(data_text)\n",
    "\n",
    "# Dialogue loop\n",
    "continue_dialogue = True\n",
    "while continue_dialogue:\n",
    "    human_text = input().lower()\n",
    "    if human_text != 'bye' or human_text != 'byee' or human_text != 'Goodbye' or human_text != 'goodbye':\n",
    "        if human_text in ['thanks', 'thank you very much', 'thank you']:\n",
    "            continue_dialogue = False\n",
    "            print(\"WiKi Bot: Most welcome\")\n",
    "        else:\n",
    "            if generate_greeting_response(human_text) is not None:\n",
    "                print(\"WiKi Bot: \" + generate_greeting_response(human_text))\n",
    "            else:\n",
    "                print(\"WiKi Bot: \", end=\"\")\n",
    "                print(generate_response(human_text))\n",
    "                data_sentences.remove(human_text)\n",
    "    else:\n",
    "        continue_dialogue = False\n",
    "        print(\"WiKi Bot: Good bye and take care of yourself...\")\n"
   ]
  },
  {
   "cell_type": "code",
   "execution_count": null,
   "id": "c6725333-9e89-4c92-b5e6-6d632470a426",
   "metadata": {},
   "outputs": [],
   "source": []
  },
  {
   "cell_type": "code",
   "execution_count": null,
   "id": "ff35734c-59fe-4d1b-bb4b-568b159f275b",
   "metadata": {},
   "outputs": [],
   "source": []
  }
 ],
 "metadata": {
  "kernelspec": {
   "display_name": "Python 3 (ipykernel)",
   "language": "python",
   "name": "python3"
  },
  "language_info": {
   "codemirror_mode": {
    "name": "ipython",
    "version": 3
   },
   "file_extension": ".py",
   "mimetype": "text/x-python",
   "name": "python",
   "nbconvert_exporter": "python",
   "pygments_lexer": "ipython3",
   "version": "3.12.3"
  }
 },
 "nbformat": 4,
 "nbformat_minor": 5
}
